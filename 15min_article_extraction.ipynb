{
  "nbformat": 4,
  "nbformat_minor": 0,
  "metadata": {
    "colab": {
      "name": "15min_article_extraction.ipynb",
      "provenance": [],
      "collapsed_sections": []
    },
    "kernelspec": {
      "name": "python3",
      "display_name": "Python 3"
    }
  },
  "cells": [
    {
      "cell_type": "code",
      "metadata": {
        "colab": {
          "base_uri": "https://localhost:8080/"
        },
        "id": "IH6y90NFx8R0",
        "outputId": "965e7f67-a704-4e4c-e347-462a821795dd"
      },
      "source": [
        "from google.colab import drive\n",
        "drive.mount('/content/drive')"
      ],
      "execution_count": null,
      "outputs": [
        {
          "output_type": "stream",
          "text": [
            "Mounted at /content/drive\n"
          ],
          "name": "stdout"
        }
      ]
    },
    {
      "cell_type": "code",
      "metadata": {
        "colab": {
          "base_uri": "https://localhost:8080/"
        },
        "id": "OYRrVbOOx-TG",
        "outputId": "5e18dba6-0519-49db-ab48-c3b839d8917e"
      },
      "source": [
        "import time, urllib\n",
        "from urllib.request import urlopen\n",
        "\n",
        "import requests\n",
        "\n",
        "import pandas\n",
        "import re\n",
        "\n",
        "col_names = ['title', 'text', 'summary', 'author']\n",
        "df  = pandas.DataFrame(columns = col_names)\n",
        "\n",
        "url = 'https://www.15min.lt/autoriai'\n",
        "response = urlopen(url)\n",
        "html = response.read()\n",
        "\n",
        "from bs4 import BeautifulSoup\n",
        "\n",
        "soup = BeautifulSoup(html, 'html.parser')\n",
        "\n",
        "autoriai = []\n",
        "autorNames = []\n",
        "for elm in soup.select(\".page-title a\"):\n",
        "#     print(elm.get(\"href\"))\n",
        "    autoriai.append(elm.get(\"href\"))\n",
        "    autorNames.append(elm.text)\n",
        "\n",
        "print(len(autoriai))\n",
        "print(autorNames)"
      ],
      "execution_count": null,
      "outputs": [
        {
          "output_type": "stream",
          "text": [
            "83\n",
            "['Aleknavičė Karolina', 'Andriejauskaitė Jurgita', 'Antanavičius Ugnius', 'Bagdonas Marius', 'Bankauskaitė Beatričė', 'Bertašiūtė Monika', 'Blažinskaitė Heida', 'Bungardaitė Indrė', 'Čekanauskaitė Rosvita', 'Čeplinskas Deimantas', 'Chadasevičius Saulius', 'Daukševič Ana', 'Dzikaras Gaudrius', 'Filipavičiūtė-Navikauskė Aušra', 'Gedvila Žygimantas', 'Grigaitė Saulė', 'Grigaliūnaitė Violeta', 'Guseva Alisa', 'Iržikevičius Ruslanas', 'Ivašauskaitė Roberta', 'Ivaškevičius Arūnas', 'Jakučionis Saulius', 'Januševičius Alvydas', 'Jasalinė Laura', 'Jašinskienė Aurelija', 'Jurčenkaitė Indrė', 'Juršienė Jūratė', 'Kajėnas Gediminas', 'Kanevičiūtė Kristina', 'Kanišauskaitė-Šaltmerė Kristina', 'Kapsevičius Gytis', 'Karalius Mažvydas', 'Karsokaitė Viktorija', 'Kaškonas Alvydas', 'Kaušakienė Asta', 'Kopūstas Valdas', 'Krasnickas Mantas', 'Krištopaitytė Eglė', 'Lebednykaitė Gabija', 'Lieponė Jurgita', 'Limontaitė Sigutė', 'Lučinskas Paulius', 'Lukosevicius Rokas', 'Maračinskaitė Edita', 'Markelevičius Tomas', 'Meškinytė Adelė', 'Mičiulis Šarūnas', 'Mikalčiūtė-Urbonė Raimonda', 'Milašius Marius', 'Miliūnaitė Ema', 'Miškinis Vytenis', 'Namikaitė Giedrė', 'Neverauskas Vaidas', 'Ovčarenko Erikas', 'Ožalas Audrius', 'Pakėnas Rokas', 'Patapaitė Danielė', 'Pekarskas Žilvinas', 'Pepcevičiūtė Indrė', 'Radauskas Gintaras', 'Rimkus Kęstas', 'Ruokis Simonas', 'Sargautytė Margarita', 'Saukienė Inga', 'Šimelevičienė Jurgita', 'Stažytė Karolina', 'Strumila Arnas', 'Šveikytė Justina', 'Taškutė Paulina', 'Tiškevič Beata', 'Tracevičiūtė Roberta', 'Tubys Lukrecijus', 'Urbonaitė Ieva', 'Urbonas Donatas', 'Vaičiūtė Jurga', 'Varnauskaitė Elena', 'Vedrickas Jurgis', 'Vireliūnaitė Lauryna', 'Vorobjovaitė Margarita', 'Zaveckytė Lina', 'Zicari Eglė', 'Žukas Vilius', 'Zulonaitė Greta']\n"
          ],
          "name": "stdout"
        }
      ]
    },
    {
      "cell_type": "code",
      "metadata": {
        "colab": {
          "base_uri": "https://localhost:8080/",
          "height": 49
        },
        "id": "IlS3ZoKzyTh0",
        "outputId": "38e646ff-466e-4244-a435-f816d24c89d4"
      },
      "source": [
        "#clean data frame\n",
        "df = pandas.DataFrame(columns = col_names)\n",
        "df"
      ],
      "execution_count": null,
      "outputs": [
        {
          "output_type": "execute_result",
          "data": {
            "text/html": [
              "<div>\n",
              "<style scoped>\n",
              "    .dataframe tbody tr th:only-of-type {\n",
              "        vertical-align: middle;\n",
              "    }\n",
              "\n",
              "    .dataframe tbody tr th {\n",
              "        vertical-align: top;\n",
              "    }\n",
              "\n",
              "    .dataframe thead th {\n",
              "        text-align: right;\n",
              "    }\n",
              "</style>\n",
              "<table border=\"1\" class=\"dataframe\">\n",
              "  <thead>\n",
              "    <tr style=\"text-align: right;\">\n",
              "      <th></th>\n",
              "      <th>title</th>\n",
              "      <th>text</th>\n",
              "      <th>summary</th>\n",
              "      <th>author</th>\n",
              "    </tr>\n",
              "  </thead>\n",
              "  <tbody>\n",
              "  </tbody>\n",
              "</table>\n",
              "</div>"
            ],
            "text/plain": [
              "Empty DataFrame\n",
              "Columns: [title, text, summary, author]\n",
              "Index: []"
            ]
          },
          "metadata": {
            "tags": []
          },
          "execution_count": 3
        }
      ]
    },
    {
      "cell_type": "code",
      "metadata": {
        "colab": {
          "base_uri": "https://localhost:8080/"
        },
        "id": "h2PE4zTxyWDU",
        "outputId": "44d51270-58c9-475e-c147-e45612dbdc43"
      },
      "source": [
        "offset = 82\n",
        "\n",
        "for (i, autorius) in enumerate(autoriai[offset:]):\n",
        "  \n",
        "    responseTry = urlopen('https://www.15min.lt' + autorius)\n",
        "    soup = BeautifulSoup(responseTry.read(), 'html.parser')\n",
        "\n",
        "    straipsniai = []\n",
        "\n",
        "    def getPageStraipsnius(soup):\n",
        "        for el in soup.select('h3 a'):\n",
        "            straipsniai.append(el.get('href'))\n",
        "\n",
        "        for elm in soup.select(\".current + a\"):\n",
        "            nextResponse = urlopen(elm.get('href'))\n",
        "            getPageStraipsnius(BeautifulSoup(nextResponse.read(), 'html.parser'))\n",
        "\n",
        "    getPageStraipsnius(soup)\n",
        "  \n",
        "    print('working on ', autorNames[offset + i])\n",
        "    \n",
        "    for (a,straipsnis) in enumerate(straipsniai):\n",
        "\n",
        "        url = 'https://www.15min.lt' + straipsnis\n",
        "\n",
        "        text = ''\n",
        "        res= urlopen('https://www.15min.lt' + straipsnis)\n",
        "        soup1 = BeautifulSoup(res.read(), 'html.parser')\n",
        "        \n",
        "        title = soup1.find(\"h1\", itemprop=\"headline\").text.strip()\n",
        "        m = re.search(r\"\\w([^\\\"]*)(\\.|!|\\?)\", str(soup1.select(\".intro\")))\n",
        "        try:\n",
        "          summary = m.group(0)\n",
        "        except:\n",
        "          summary = 'NERA'\n",
        "            \n",
        "        for elm in soup1.select(\".text p\"):\n",
        "\n",
        "            \n",
        "            if (len(text) > 3000):\n",
        "                break\n",
        "            text += elm.text\n",
        "        text = text[0:3000]\n",
        "            \n",
        "\n",
        "        print(a, end =\" \")\n",
        "        df = df.append({'text' : text , 'author' : autorNames[offset + i], 'summary' : summary, 'title' : title }, ignore_index=True)\n",
        "\n",
        "    df.to_csv('/content/drive/MyDrive/vgtu/BAKALAURAS/autoriai-%i.csv' % (offset + i), sep='\\t')\n",
        "    df = pandas.DataFrame(columns = col_names)\n",
        "    print('finish')\n",
        "    print('with current author')\n"
      ],
      "execution_count": null,
      "outputs": [
        {
          "output_type": "stream",
          "text": [
            "working on  Zulonaitė Greta\n",
            "finish\n",
            "with current author\n"
          ],
          "name": "stdout"
        }
      ]
    },
    {
      "cell_type": "code",
      "metadata": {
        "id": "K7qH-hmlydt8",
        "colab": {
          "base_uri": "https://localhost:8080/"
        },
        "outputId": "ea866ad4-a67f-4f3f-d8bd-1b57d6bfcf6f"
      },
      "source": [
        "import os\n",
        "os.chdir(\"/content/drive/MyDrive/vgtu/BAKALAURAS/\")\n",
        "!ls"
      ],
      "execution_count": null,
      "outputs": [
        {
          "output_type": "stream",
          "text": [
            "autoriai-0.csv\t autoriai-29.csv  autoriai-48.csv  autoriai-67.csv\n",
            "autoriai-10.csv  autoriai-2.csv   autoriai-49.csv  autoriai-68.csv\n",
            "autoriai-11.csv  autoriai-30.csv  autoriai-4.csv   autoriai-69.csv\n",
            "autoriai-12.csv  autoriai-31.csv  autoriai-50.csv  autoriai-6.csv\n",
            "autoriai-13.csv  autoriai-32.csv  autoriai-51.csv  autoriai-70.csv\n",
            "autoriai-14.csv  autoriai-33.csv  autoriai-52.csv  autoriai-71.csv\n",
            "autoriai-15.csv  autoriai-34.csv  autoriai-53.csv  autoriai-72.csv\n",
            "autoriai-16.csv  autoriai-35.csv  autoriai-54.csv  autoriai-73.csv\n",
            "autoriai-17.csv  autoriai-36.csv  autoriai-55.csv  autoriai-74.csv\n",
            "autoriai-18.csv  autoriai-37.csv  autoriai-56.csv  autoriai-75.csv\n",
            "autoriai-19.csv  autoriai-38.csv  autoriai-57.csv  autoriai-76.csv\n",
            "autoriai-1.csv\t autoriai-39.csv  autoriai-58.csv  autoriai-77.csv\n",
            "autoriai-20.csv  autoriai-3.csv   autoriai-59.csv  autoriai-78.csv\n",
            "autoriai-21.csv  autoriai-40.csv  autoriai-5.csv   autoriai-79.csv\n",
            "autoriai-22.csv  autoriai-41.csv  autoriai-60.csv  autoriai-7.csv\n",
            "autoriai-23.csv  autoriai-42.csv  autoriai-61.csv  autoriai-80.csv\n",
            "autoriai-24.csv  autoriai-43.csv  autoriai-62.csv  autoriai-81.csv\n",
            "autoriai-25.csv  autoriai-44.csv  autoriai-63.csv  autoriai-82.csv\n",
            "autoriai-26.csv  autoriai-45.csv  autoriai-64.csv  autoriai-8.csv\n",
            "autoriai-27.csv  autoriai-46.csv  autoriai-65.csv  autoriai-9.csv\n",
            "autoriai-28.csv  autoriai-47.csv  autoriai-66.csv\n"
          ],
          "name": "stdout"
        }
      ]
    },
    {
      "cell_type": "code",
      "metadata": {
        "id": "gsq95YXe0LHF",
        "colab": {
          "base_uri": "https://localhost:8080/",
          "height": 49
        },
        "outputId": "9f4ae5e8-0376-46b2-e579-633006fb34ad"
      },
      "source": [
        "df.head()"
      ],
      "execution_count": null,
      "outputs": [
        {
          "output_type": "execute_result",
          "data": {
            "text/html": [
              "<div>\n",
              "<style scoped>\n",
              "    .dataframe tbody tr th:only-of-type {\n",
              "        vertical-align: middle;\n",
              "    }\n",
              "\n",
              "    .dataframe tbody tr th {\n",
              "        vertical-align: top;\n",
              "    }\n",
              "\n",
              "    .dataframe thead th {\n",
              "        text-align: right;\n",
              "    }\n",
              "</style>\n",
              "<table border=\"1\" class=\"dataframe\">\n",
              "  <thead>\n",
              "    <tr style=\"text-align: right;\">\n",
              "      <th></th>\n",
              "      <th>title</th>\n",
              "      <th>text</th>\n",
              "      <th>summary</th>\n",
              "      <th>author</th>\n",
              "    </tr>\n",
              "  </thead>\n",
              "  <tbody>\n",
              "  </tbody>\n",
              "</table>\n",
              "</div>"
            ],
            "text/plain": [
              "Empty DataFrame\n",
              "Columns: [title, text, summary, author]\n",
              "Index: []"
            ]
          },
          "metadata": {
            "tags": []
          },
          "execution_count": 6
        }
      ]
    },
    {
      "cell_type": "code",
      "metadata": {
        "id": "veIls56glS-j"
      },
      "source": [
        ""
      ],
      "execution_count": null,
      "outputs": []
    }
  ]
}